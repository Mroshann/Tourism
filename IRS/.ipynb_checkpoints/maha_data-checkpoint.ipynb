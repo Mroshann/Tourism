{
 "cells": [
  {
   "cell_type": "code",
   "execution_count": 3,
   "metadata": {},
   "outputs": [
    {
     "name": "stdout",
     "output_type": "stream",
     "text": [
      "Requirement already satisfied: folium in c:\\users\\damayanti\\appdata\\local\\programs\\python\\python310\\lib\\site-packages (0.14.0)\n",
      "Requirement already satisfied: branca>=0.6.0 in c:\\users\\damayanti\\appdata\\local\\programs\\python\\python310\\lib\\site-packages (from folium) (0.6.0)\n",
      "Requirement already satisfied: jinja2>=2.9 in c:\\users\\damayanti\\appdata\\local\\programs\\python\\python310\\lib\\site-packages (from folium) (3.1.1)\n",
      "Requirement already satisfied: numpy in c:\\users\\damayanti\\appdata\\local\\programs\\python\\python310\\lib\\site-packages (from folium) (1.22.3)\n",
      "Requirement already satisfied: requests in c:\\users\\damayanti\\appdata\\local\\programs\\python\\python310\\lib\\site-packages (from folium) (2.27.1)\n",
      "Requirement already satisfied: MarkupSafe>=2.0 in c:\\users\\damayanti\\appdata\\local\\programs\\python\\python310\\lib\\site-packages (from jinja2>=2.9->folium) (2.1.1)\n",
      "Requirement already satisfied: urllib3<1.27,>=1.21.1 in c:\\users\\damayanti\\appdata\\local\\programs\\python\\python310\\lib\\site-packages (from requests->folium) (1.26.9)\n",
      "Requirement already satisfied: certifi>=2017.4.17 in c:\\users\\damayanti\\appdata\\local\\programs\\python\\python310\\lib\\site-packages (from requests->folium) (2021.10.8)\n",
      "Requirement already satisfied: charset-normalizer~=2.0.0 in c:\\users\\damayanti\\appdata\\local\\programs\\python\\python310\\lib\\site-packages (from requests->folium) (2.0.12)\n",
      "Requirement already satisfied: idna<4,>=2.5 in c:\\users\\damayanti\\appdata\\local\\programs\\python\\python310\\lib\\site-packages (from requests->folium) (3.3)\n",
      "Note: you may need to restart the kernel to use updated packages.\n"
     ]
    }
   ],
   "source": [
    "pip install folium\n"
   ]
  },
  {
   "cell_type": "code",
   "execution_count": 5,
   "metadata": {},
   "outputs": [],
   "source": [
    "import pandas as pd\n",
    "import folium"
   ]
  },
  {
   "cell_type": "code",
   "execution_count": 6,
   "metadata": {},
   "outputs": [],
   "source": [
    "hotels = pd.read_csv(\"Hotels.csv\")\n",
    "places = pd.read_csv(\"Places.csv\")\n",
    "types = pd.read_csv(\"Types.csv\")"
   ]
  }
 ],
 "metadata": {
  "kernelspec": {
   "display_name": "Python 3 (ipykernel)",
   "language": "python",
   "name": "python3"
  },
  "language_info": {
   "codemirror_mode": {
    "name": "ipython",
    "version": 3
   },
   "file_extension": ".py",
   "mimetype": "text/x-python",
   "name": "python",
   "nbconvert_exporter": "python",
   "pygments_lexer": "ipython3",
   "version": "3.10.2"
  }
 },
 "nbformat": 4,
 "nbformat_minor": 2
}
